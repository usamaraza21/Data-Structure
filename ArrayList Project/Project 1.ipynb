{
 "cells": [
  {
   "cell_type": "markdown",
   "id": "35f531b1",
   "metadata": {},
   "source": [
    "# Calculate Average Temp And Days Count over Avg Temp"
   ]
  },
  {
   "cell_type": "code",
   "execution_count": 1,
   "id": "bf374d11",
   "metadata": {},
   "outputs": [
    {
     "name": "stdout",
     "output_type": "stream",
     "text": [
      "How many Day's Temperature 3\n",
      "Enter 1's Day's High Temp 10\n",
      "Enter 2's Day's High Temp 20\n",
      "Enter 3's Day's High Temp 15\n",
      "Sum =  45 and total days =  3\n",
      "Average =  15.0\n",
      "1  Day's are high temp than Avg\n"
     ]
    }
   ],
   "source": [
    "\n",
    "def CalculateAvgTemp():\n",
    "    count = 0\n",
    "    sums = 0\n",
    "    _range = int(input(\"How many Day's Temperature \"))\n",
    "    for i in range(1,_range+1):\n",
    "        days = int(input(\"Enter \"+ str(i)+\"'s Day's High Temp \"))\n",
    "        sums += days\n",
    "        temp.append(days)\n",
    "    print(\"Sum = \",sums, \"and total days = \",_range)\n",
    "    avg = sums/_range\n",
    "    print(\"Average = \",avg)    \n",
    "    for j in temp:\n",
    "        if j > avg:\n",
    "            count += 1\n",
    "    print(count,\" Day's are high temp than Avg\")\n",
    "\n",
    "temp = []\n",
    "CalculateAvgTemp()"
   ]
  },
  {
   "cell_type": "code",
   "execution_count": null,
   "id": "d0cb3279",
   "metadata": {},
   "outputs": [],
   "source": []
  }
 ],
 "metadata": {
  "kernelspec": {
   "display_name": "Python 3 (ipykernel)",
   "language": "python",
   "name": "python3"
  },
  "language_info": {
   "codemirror_mode": {
    "name": "ipython",
    "version": 3
   },
   "file_extension": ".py",
   "mimetype": "text/x-python",
   "name": "python",
   "nbconvert_exporter": "python",
   "pygments_lexer": "ipython3",
   "version": "3.9.12"
  }
 },
 "nbformat": 4,
 "nbformat_minor": 5
}
