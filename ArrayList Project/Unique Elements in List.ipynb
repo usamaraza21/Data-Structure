{
 "cells": [
  {
   "cell_type": "markdown",
   "id": "d9cb4ac3",
   "metadata": {},
   "source": [
    "# list contains duplicates elements\n",
    "# > check the duplicates element in list\n",
    "# > take unique elements in another list "
   ]
  },
  {
   "cell_type": "code",
   "execution_count": 1,
   "id": "0a6fe2c7",
   "metadata": {},
   "outputs": [
    {
     "name": "stdout",
     "output_type": "stream",
     "text": [
      "first time element add in empty list\n",
      "1 duplicate\n",
      "1 duplicate\n",
      "6 duplicate\n"
     ]
    },
    {
     "data": {
      "text/plain": [
       "[1, 3, 4, 5, 6, 7, 8, 9]"
      ]
     },
     "execution_count": 1,
     "metadata": {},
     "output_type": "execute_result"
    }
   ],
   "source": [
    "def UniqueElements(_mylist ,_empList ):\n",
    "    for i in range(len(_mylist)):\n",
    "        checker = True\n",
    "        if _empList:\n",
    "            for j in range(len(_empList)):\n",
    "                if _mylist[i] == _empList[j]:\n",
    "                    print(_mylist[i], \"duplicate\")\n",
    "                    checker = False\n",
    "                    \n",
    "            if checker:    \n",
    "                _empList.append(_mylist[i])\n",
    "                \n",
    "        else:\n",
    "            print(\"first time element add in empty list\")\n",
    "            _empList.append(_mylist[i])\n",
    "    return _empList\n",
    "    \n",
    "    \n",
    "empList = []\n",
    "mylist = [1,1,3,4,5,6,7,8,1,6,9]\n",
    "UniqueElements(mylist , empList)"
   ]
  }
 ],
 "metadata": {
  "kernelspec": {
   "display_name": "Python 3 (ipykernel)",
   "language": "python",
   "name": "python3"
  },
  "language_info": {
   "codemirror_mode": {
    "name": "ipython",
    "version": 3
   },
   "file_extension": ".py",
   "mimetype": "text/x-python",
   "name": "python",
   "nbconvert_exporter": "python",
   "pygments_lexer": "ipython3",
   "version": "3.9.12"
  }
 },
 "nbformat": 4,
 "nbformat_minor": 5
}
