{
 "cells": [
  {
   "cell_type": "code",
   "execution_count": 3,
   "id": "b74c73e3",
   "metadata": {},
   "outputs": [],
   "source": [
    "# Find Missing Number in list"
   ]
  },
  {
   "cell_type": "code",
   "execution_count": 4,
   "id": "51d42697",
   "metadata": {},
   "outputs": [],
   "source": [
    "#Formula is : n(n+1)/2"
   ]
  },
  {
   "cell_type": "code",
   "execution_count": 24,
   "id": "488d2afd",
   "metadata": {},
   "outputs": [
    {
     "name": "stdout",
     "output_type": "stream",
     "text": [
      "Sum1 210.0\n",
      "Sum2 203\n",
      "7.0\n"
     ]
    }
   ],
   "source": [
    "number = [1,2,3,4,5,6,8,9,10,11,12,13,14,15,16,17,18,19,20]\n",
    "\n",
    "def MissingNumber(_numberlist , n):\n",
    "    sum1 = (n*(n+1))/2\n",
    "    print(\"Sum1\", sum1)\n",
    "    sum2 = sum(_numberlist)\n",
    "    print(\"Sum2\", sum2)\n",
    "    print(sum1-sum2)\n",
    "\n",
    "MissingNumber(number , len(number)+1)"
   ]
  },
  {
   "cell_type": "code",
   "execution_count": 23,
   "id": "bc7a44b4",
   "metadata": {},
   "outputs": [
    {
     "name": "stdout",
     "output_type": "stream",
     "text": [
      "1\n",
      "3\n",
      "6\n",
      "10\n",
      "15\n",
      "21\n",
      "28\n",
      "36\n",
      "45\n",
      "55\n",
      "66\n",
      "78\n",
      "91\n",
      "105\n",
      "120\n",
      "136\n",
      "153\n",
      "171\n",
      "190\n",
      "210\n",
      "Total 210\n"
     ]
    }
   ],
   "source": [
    "sun = 0\n",
    "for i in range(1,21):\n",
    "    sun += i\n",
    "    print(sun)\n",
    "print(\"Total\",sun)"
   ]
  },
  {
   "cell_type": "code",
   "execution_count": null,
   "id": "1cdcca2f",
   "metadata": {},
   "outputs": [],
   "source": []
  }
 ],
 "metadata": {
  "kernelspec": {
   "display_name": "Python 3 (ipykernel)",
   "language": "python",
   "name": "python3"
  },
  "language_info": {
   "codemirror_mode": {
    "name": "ipython",
    "version": 3
   },
   "file_extension": ".py",
   "mimetype": "text/x-python",
   "name": "python",
   "nbconvert_exporter": "python",
   "pygments_lexer": "ipython3",
   "version": "3.9.12"
  }
 },
 "nbformat": 4,
 "nbformat_minor": 5
}
