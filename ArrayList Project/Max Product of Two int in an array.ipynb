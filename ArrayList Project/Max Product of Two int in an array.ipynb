{
 "cells": [
  {
   "cell_type": "markdown",
   "id": "308e56d0",
   "metadata": {},
   "source": [
    "# Checking Maximum product of two int in an array"
   ]
  },
  {
   "cell_type": "code",
   "execution_count": 9,
   "id": "0b5f93be",
   "metadata": {},
   "outputs": [
    {
     "name": "stdout",
     "output_type": "stream",
     "text": [
      "('19', ' * ', '22')\n"
     ]
    },
    {
     "data": {
      "text/plain": [
       "418"
      ]
     },
     "execution_count": 9,
     "metadata": {},
     "output_type": "execute_result"
    }
   ],
   "source": [
    "import numpy as np\n",
    "\n",
    "def CheckMaximumProduct(_array , maxproduct):\n",
    "    for i in range(len(_array)):\n",
    "        for j in range(i+1,len(_array)):\n",
    "            checker1 = _array[i] * _array[j]\n",
    "            if checker1 > maxproduct:\n",
    "                maxproduct = checker1\n",
    "                num = str(_array[i]),' * ',str(_array[j])\n",
    "    print(num)\n",
    "    return maxproduct\n",
    "            \n",
    "maxproduct = 0\n",
    "checker1 = 0\n",
    "arrr = np.array([1,3,5,7,9,11,13,15,17,19,22])\n",
    "CheckMaximumProduct(arrr , maxproduct)"
   ]
  }
 ],
 "metadata": {
  "kernelspec": {
   "display_name": "Python 3 (ipykernel)",
   "language": "python",
   "name": "python3"
  },
  "language_info": {
   "codemirror_mode": {
    "name": "ipython",
    "version": 3
   },
   "file_extension": ".py",
   "mimetype": "text/x-python",
   "name": "python",
   "nbconvert_exporter": "python",
   "pygments_lexer": "ipython3",
   "version": "3.9.12"
  }
 },
 "nbformat": 4,
 "nbformat_minor": 5
}
