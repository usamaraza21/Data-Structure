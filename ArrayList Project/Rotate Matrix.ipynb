{
 "cells": [
  {
   "cell_type": "code",
   "execution_count": null,
   "id": "b09d1c82",
   "metadata": {},
   "outputs": [],
   "source": [
    "# 1|2|3\n",
    "# -----\n",
    "# 4|5|6\n",
    "# -----\n",
    "# 7|8|9\n"
   ]
  },
  {
   "cell_type": "code",
   "execution_count": null,
   "id": "cd671fcd",
   "metadata": {},
   "outputs": [],
   "source": []
  },
  {
   "cell_type": "code",
   "execution_count": 1,
   "id": "50e61b75",
   "metadata": {},
   "outputs": [
    {
     "name": "stdout",
     "output_type": "stream",
     "text": [
      "[[1 2 3]\n",
      " [4 5 6]\n",
      " [7 8 9]]\n",
      "[[7 4 1]\n",
      " [8 5 2]\n",
      " [9 6 3]]\n"
     ]
    }
   ],
   "source": [
    "import numpy as np\n",
    "\n",
    "matrix = np.array([[1,2,3] , [4,5,6] , [7,8,9]])\n",
    "print(matrix)\n",
    "def RotateMatrix(_array):\n",
    "    n = len(_array)\n",
    "    for layer in range(n//2): # layer start to 0\n",
    "        first = layer\n",
    "        last = n - layer - 1\n",
    "        for i in range(first , last): # i start to 0\n",
    "            top = _array[layer][i]\n",
    "            _array[layer][i] = _array[-i-1][layer]\n",
    "            _array[-i-1][layer] = _array[-layer-1][-i-1]\n",
    "            _array[-layer-1][-i-1] = _array[i][-layer-1]\n",
    "            _array[i][-layer-1] = top \n",
    "    return matrix\n",
    "\n",
    "print(RotateMatrix(matrix))"
   ]
  },
  {
   "cell_type": "code",
   "execution_count": null,
   "id": "62dde218",
   "metadata": {},
   "outputs": [],
   "source": []
  }
 ],
 "metadata": {
  "kernelspec": {
   "display_name": "Python 3 (ipykernel)",
   "language": "python",
   "name": "python3"
  },
  "language_info": {
   "codemirror_mode": {
    "name": "ipython",
    "version": 3
   },
   "file_extension": ".py",
   "mimetype": "text/x-python",
   "name": "python",
   "nbconvert_exporter": "python",
   "pygments_lexer": "ipython3",
   "version": "3.9.12"
  }
 },
 "nbformat": 4,
 "nbformat_minor": 5
}
