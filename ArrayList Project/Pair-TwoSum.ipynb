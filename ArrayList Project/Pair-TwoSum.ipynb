{
 "cells": [
  {
   "cell_type": "code",
   "execution_count": 12,
   "id": "eb78527d",
   "metadata": {},
   "outputs": [
    {
     "name": "stdout",
     "output_type": "stream",
     "text": [
      "[2, 6, 4, 9, 4, 11] 8\n",
      "0 1\n",
      "2 4\n"
     ]
    }
   ],
   "source": [
    "def FindPairs(_numlist , target):\n",
    "    print(_numlist , target)\n",
    "    for i in range(len(_numlist)):\n",
    "        for j in range( i+1, len(_numlist)):\n",
    "            if ( target -  _numlist[i] == _numlist[j]):\n",
    "                print(i , j)\n",
    "                \n",
    "numlist = [2,6,4,9,4,11]\n",
    "target = 8\n",
    "FindPairs(numlist , target)"
   ]
  },
  {
   "cell_type": "code",
   "execution_count": null,
   "id": "72433dff",
   "metadata": {},
   "outputs": [],
   "source": []
  }
 ],
 "metadata": {
  "kernelspec": {
   "display_name": "Python 3 (ipykernel)",
   "language": "python",
   "name": "python3"
  },
  "language_info": {
   "codemirror_mode": {
    "name": "ipython",
    "version": 3
   },
   "file_extension": ".py",
   "mimetype": "text/x-python",
   "name": "python",
   "nbconvert_exporter": "python",
   "pygments_lexer": "ipython3",
   "version": "3.9.12"
  }
 },
 "nbformat": 4,
 "nbformat_minor": 5
}
