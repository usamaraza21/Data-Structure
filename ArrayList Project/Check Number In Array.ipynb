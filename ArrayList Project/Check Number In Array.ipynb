{
 "cells": [
  {
   "cell_type": "code",
   "execution_count": 8,
   "id": "0a08fe9b",
   "metadata": {},
   "outputs": [
    {
     "name": "stdout",
     "output_type": "stream",
     "text": [
      "Given number is not in an array\n"
     ]
    }
   ],
   "source": [
    "import numpy as np\n",
    "\n",
    "def CheckNum(_array , _num , c):\n",
    "    for i in range(len(_array)):\n",
    "        if (_num == _array[i]):\n",
    "            c = 1\n",
    "            print(\"Given Number\",_num,\" is in an array on \",i,\" index\")\n",
    "    if c == 0:\n",
    "        print(\"Given number is not in an array\")\n",
    "count = 0\n",
    "num = 11\n",
    "arr = np.array([1,2,3,4,5,6,7,8,9,10])\n",
    "CheckNum(arr , num, count)"
   ]
  }
 ],
 "metadata": {
  "kernelspec": {
   "display_name": "Python 3 (ipykernel)",
   "language": "python",
   "name": "python3"
  },
  "language_info": {
   "codemirror_mode": {
    "name": "ipython",
    "version": 3
   },
   "file_extension": ".py",
   "mimetype": "text/x-python",
   "name": "python",
   "nbconvert_exporter": "python",
   "pygments_lexer": "ipython3",
   "version": "3.9.12"
  }
 },
 "nbformat": 4,
 "nbformat_minor": 5
}
