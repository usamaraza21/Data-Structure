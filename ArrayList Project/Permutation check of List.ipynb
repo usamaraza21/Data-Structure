{
 "cells": [
  {
   "cell_type": "code",
   "execution_count": null,
   "id": "8cc2531d",
   "metadata": {},
   "outputs": [],
   "source": [
    "# Take two list check if they are simliar in elements and length "
   ]
  },
  {
   "cell_type": "code",
   "execution_count": 10,
   "id": "bc4471af",
   "metadata": {},
   "outputs": [
    {
     "name": "stdout",
     "output_type": "stream",
     "text": [
      "Both list are similar\n"
     ]
    }
   ],
   "source": [
    "def Permutation(_list1 , _list2):\n",
    "    if len(_list1) != len(_list2):\n",
    "        print(\"the length of list is not similar\")\n",
    "        return\n",
    "    _list1.sort()\n",
    "    _list2.sort()\n",
    "    if _list1 == _list2:\n",
    "        print(\"Both list are similar\")\n",
    "        return\n",
    "    else:\n",
    "        print(\"different from eachother\")\n",
    "list1 = [1,2,3]\n",
    "list2 = [3,1,2]\n",
    "Permutation(list1 , list2)"
   ]
  }
 ],
 "metadata": {
  "kernelspec": {
   "display_name": "Python 3 (ipykernel)",
   "language": "python",
   "name": "python3"
  },
  "language_info": {
   "codemirror_mode": {
    "name": "ipython",
    "version": 3
   },
   "file_extension": ".py",
   "mimetype": "text/x-python",
   "name": "python",
   "nbconvert_exporter": "python",
   "pygments_lexer": "ipython3",
   "version": "3.9.12"
  }
 },
 "nbformat": 4,
 "nbformat_minor": 5
}
