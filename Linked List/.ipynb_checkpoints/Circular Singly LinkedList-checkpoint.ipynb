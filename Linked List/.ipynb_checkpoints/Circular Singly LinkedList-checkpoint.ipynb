{
 "cells": [
  {
   "cell_type": "markdown",
   "id": "8c6e2f8a",
   "metadata": {},
   "source": [
    "# \"CREATION\" | \"INSERTION\" of Circular Singly LinkedList."
   ]
  },
  {
   "cell_type": "code",
   "execution_count": 71,
   "id": "570d623e",
   "metadata": {},
   "outputs": [
    {
     "name": "stdout",
     "output_type": "stream",
     "text": [
      " Circular list is created \n",
      " Insertion Has Succesfully Done \n",
      " Insertion Has Succesfully Done \n",
      " Insertion Has Succesfully Done \n",
      " Insertion Has Succesfully Done \n",
      " Insertion Has Succesfully Done \n",
      " Insertion Has Succesfully Done \n",
      " Insertion Has Succesfully Done \n",
      " Insertion Has Succesfully Done \n",
      " Insertion Has Succesfully Done \n",
      " Insertion Has Succesfully Done \n",
      "Creation of list -> [0, 1, 2, 3, 4, 5, 6, 7, 8, 9, 10] \n"
     ]
    }
   ],
   "source": [
    "class Node:\n",
    "    def __init__(self, value = None):\n",
    "        self.value = value\n",
    "        self.next = None\n",
    "\n",
    "class CircularSinglyLinkedList:\n",
    "    def __init__(self):\n",
    "        self.head = None\n",
    "        self.tail = None\n",
    "    \n",
    "    \n",
    "    # This function is for printing iteratable value in linkedlist\n",
    "    def __iter__(self):  \n",
    "        node = self.head\n",
    "        while node:\n",
    "            yield node\n",
    "            if node.next == self.tail.next:\n",
    "                break\n",
    "            node = node.next\n",
    "    \n",
    "    # Creating a list with Single Node\n",
    "    def CreateCSLL(self, nodeValue):\n",
    "        node = Node(nodeValue)\n",
    "        node.next = node\n",
    "        self.head = node\n",
    "        self.tail = node\n",
    "        return \" Circular list is created \"\n",
    "    \n",
    "    # Insertion in a first , specific , or last position\n",
    "    def InsertionCSLL(self, value, location):\n",
    "        if self.head is None:\n",
    "            return \" Circular linkedlist is empty\"\n",
    "        else:\n",
    "            newNode = Node(value)\n",
    "            if location == 0:\n",
    "                newNode.next = self.head\n",
    "                self.head = newNode\n",
    "                self.tail.next = newNode\n",
    "            elif location == 1:\n",
    "                newNode.next = self.tail.next\n",
    "                self.tail.next = newNode\n",
    "                self.tail = newNode\n",
    "            else:\n",
    "                tempNode = self.head\n",
    "                index = 0\n",
    "                while index < location - 1:\n",
    "                    tempNode = tempNode.next\n",
    "                    index += 1\n",
    "                nextNode = tempNode.next\n",
    "                tempNode.next = newNode\n",
    "                newNode.next = nextNode\n",
    "            return \" Insertion Has Succesfully Done \"\n",
    "                \n",
    "                \n",
    "                \n",
    "circularSinglyList = CircularSinglyLinkedList()\n",
    "print(circularSinglyList.CreateCSLL(1))\n",
    "print(circularSinglyList.InsertionCSLL(3,1))\n",
    "print(circularSinglyList.InsertionCSLL(5,1))\n",
    "print(circularSinglyList.InsertionCSLL(7,1))\n",
    "print(circularSinglyList.InsertionCSLL(9,1))\n",
    "print(circularSinglyList.InsertionCSLL(0,0))\n",
    "print(circularSinglyList.InsertionCSLL(2,2))\n",
    "print(circularSinglyList.InsertionCSLL(4,4))\n",
    "print(circularSinglyList.InsertionCSLL(6,6))\n",
    "print(circularSinglyList.InsertionCSLL(8,8))\n",
    "print(circularSinglyList.InsertionCSLL(10,1))\n",
    "print(f\"Creation of list -> {[node.value for node in circularSinglyList]} \")"
   ]
  }
 ],
 "metadata": {
  "kernelspec": {
   "display_name": "Python 3 (ipykernel)",
   "language": "python",
   "name": "python3"
  },
  "language_info": {
   "codemirror_mode": {
    "name": "ipython",
    "version": 3
   },
   "file_extension": ".py",
   "mimetype": "text/x-python",
   "name": "python",
   "nbconvert_exporter": "python",
   "pygments_lexer": "ipython3",
   "version": "3.9.13"
  }
 },
 "nbformat": 4,
 "nbformat_minor": 5
}
