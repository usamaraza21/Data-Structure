{
 "cells": [
  {
   "cell_type": "markdown",
   "id": "aff9776c",
   "metadata": {},
   "source": [
    "# \"Creation\" of Singly Linked List"
   ]
  },
  {
   "cell_type": "code",
   "execution_count": 1,
   "id": "48622111",
   "metadata": {},
   "outputs": [
    {
     "name": "stdout",
     "output_type": "stream",
     "text": [
      "[1, 2]\n"
     ]
    }
   ],
   "source": [
    "class SLinkedList:\n",
    "    def __init__(self):\n",
    "        self.head = None\n",
    "        self.tail = None\n",
    "    def __iter__(self):  # This function is for printing iteratable value in linkedlist\n",
    "        node = self.head\n",
    "        while node:\n",
    "            yield node\n",
    "            node = node.next\n",
    "class Node:\n",
    "    def __init__(self, value = None):\n",
    "        self.value = value\n",
    "        self.next = None\n",
    "    \n",
    "            \n",
    "singleLinkedList = SLinkedList()\n",
    "node1 = Node(1)\n",
    "node2 = Node(2)\n",
    "\n",
    "singleLinkedList.head = node1\n",
    "singleLinkedList.head.next = node2\n",
    "singleLinkedList.tail = node2\n",
    "print([node.value for node in singleLinkedList])"
   ]
  },
  {
   "cell_type": "markdown",
   "id": "84579c5b",
   "metadata": {},
   "source": [
    "#  \"INSERTION\" In Singly Linked List"
   ]
  },
  {
   "cell_type": "code",
   "execution_count": 5,
   "id": "59203161",
   "metadata": {},
   "outputs": [
    {
     "name": "stdout",
     "output_type": "stream",
     "text": [
      "Insertion [0, 1, 2, 7, 10, 3, 4] \n",
      "Traversing : 0 1 2 7 10 3 4 "
     ]
    }
   ],
   "source": [
    "class Node:\n",
    "    def __init__(self, value = None):\n",
    "        self.value = value\n",
    "        self.next = None\n",
    "        \n",
    "class SLinkedList:\n",
    "    def __init__(self):\n",
    "        self.head = None\n",
    "        self.tail = None\n",
    "    \n",
    "    def __iter__(self):  # This function is for printing iteratable value inlinkedlist\n",
    "        node = self.head\n",
    "        while node:\n",
    "            yield node\n",
    "            node = node.next\n",
    "    \n",
    "    def InsertionSLL(self, value, location):     ### insertion Method in LinkedList\n",
    "        newnode = Node(value)\n",
    "        if self.head is None:    # Insertion If the linked List is empty  \n",
    "            self.head = newnode\n",
    "            self.tail = newnode\n",
    "        else:\n",
    "            if location == 0:       # Insertion on the start of the linkedlist\n",
    "                newnode.next = self.head\n",
    "                self.head = newnode\n",
    "            elif location == 1:     # Insertion on the End of the linkedlist\n",
    "                newnode.next = None\n",
    "                self.tail.next = newnode\n",
    "                self.tail = newnode\n",
    "            else:                 # Insertion on the middle of the linkedlist\n",
    "                tempNode = self.head\n",
    "                index = 0\n",
    "                while index < location - 1:\n",
    "                    tempNode = tempNode.next\n",
    "                    index += 1\n",
    "                nextNode = tempNode.next\n",
    "                tempNode.next = newnode\n",
    "                newnode.next = nextNode\n",
    "    def TraversingSLL(self):      # Traverse Method In Linked List\n",
    "        if self.head is None:\n",
    "            print(\" The Linked List is Empty\")\n",
    "        else:\n",
    "            node = self.head\n",
    "            while node is not None:\n",
    "                print(node.value , end=' ')\n",
    "                node = node.next\n",
    "        \n",
    "        \n",
    "        \n",
    "        \n",
    "        \n",
    "        \n",
    "\n",
    "singleLinkedList = SLinkedList()\n",
    "singleLinkedList.InsertionSLL(1,1)\n",
    "singleLinkedList.InsertionSLL(2,1)\n",
    "singleLinkedList.InsertionSLL(3,1)\n",
    "singleLinkedList.InsertionSLL(4,1)\n",
    "singleLinkedList.InsertionSLL(7,2)\n",
    "singleLinkedList.InsertionSLL(0,0)\n",
    "singleLinkedList.InsertionSLL(10,4)\n",
    "\n",
    "print(f\"Insertion {[node.value for node in singleLinkedList]} \")\n",
    "print(\"Traversing : \" , end='')\n",
    "singleLinkedList.TraversingSLL()"
   ]
  },
  {
   "cell_type": "code",
   "execution_count": null,
   "id": "ddac756d",
   "metadata": {},
   "outputs": [],
   "source": []
  },
  {
   "cell_type": "code",
   "execution_count": null,
   "id": "63fe1c3a",
   "metadata": {},
   "outputs": [],
   "source": []
  }
 ],
 "metadata": {
  "kernelspec": {
   "display_name": "Python 3 (ipykernel)",
   "language": "python",
   "name": "python3"
  },
  "language_info": {
   "codemirror_mode": {
    "name": "ipython",
    "version": 3
   },
   "file_extension": ".py",
   "mimetype": "text/x-python",
   "name": "python",
   "nbconvert_exporter": "python",
   "pygments_lexer": "ipython3",
   "version": "3.9.13"
  }
 },
 "nbformat": 4,
 "nbformat_minor": 5
}
