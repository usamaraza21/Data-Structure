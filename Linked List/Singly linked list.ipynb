{
 "cells": [
  {
   "cell_type": "code",
   "execution_count": null,
   "id": "48622111",
   "metadata": {},
   "outputs": [],
   "source": [
    "# Creation of Singly Linked List\n",
    "\n",
    "Class SLinkedList(self):\n",
    "    self.head = None\n",
    "    self.tail = None\n",
    "    \n",
    "Class Node(self, value = None):\n",
    "    self.value = value\n",
    "    self.next = None\n",
    "    \n",
    "    \n",
    "    \n",
    "singleLinkedList = SLinkedList()\n",
    "node1 = Node(1)\n",
    "node2 = Node(2)\n",
    "\n",
    "singleLinkedList.head = node1\n",
    "singleLinkedList.head.next = node2\n",
    "singleLinkedList.tail = node2"
   ]
  }
 ],
 "metadata": {
  "kernelspec": {
   "display_name": "Python 3 (ipykernel)",
   "language": "python",
   "name": "python3"
  },
  "language_info": {
   "codemirror_mode": {
    "name": "ipython",
    "version": 3
   },
   "file_extension": ".py",
   "mimetype": "text/x-python",
   "name": "python",
   "nbconvert_exporter": "python",
   "pygments_lexer": "ipython3",
   "version": "3.9.13"
  }
 },
 "nbformat": 4,
 "nbformat_minor": 5
}
