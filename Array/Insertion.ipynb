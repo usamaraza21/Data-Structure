{
 "cells": [
  {
   "cell_type": "markdown",
   "id": "9ae9ab88",
   "metadata": {},
   "source": [
    "# Insertion in an Array"
   ]
  },
  {
   "cell_type": "code",
   "execution_count": 1,
   "id": "37bf42d0",
   "metadata": {},
   "outputs": [],
   "source": [
    "from array import *\n",
    "def Insertion(element , _array):\n",
    "    _array.append(element)\n",
    "    \n",
    "\n",
    "arr1 = array('i' , [1,2,3])\n",
    "# arr1\n",
    "# print(len(arr1))\n",
    "Insertion(4 , arr1)"
   ]
  },
  {
   "cell_type": "code",
   "execution_count": 2,
   "id": "917a5f2e",
   "metadata": {},
   "outputs": [
    {
     "data": {
      "text/plain": [
       "array('i', [1, 2, 3, 4])"
      ]
     },
     "execution_count": 2,
     "metadata": {},
     "output_type": "execute_result"
    }
   ],
   "source": [
    "arr1"
   ]
  },
  {
   "cell_type": "code",
   "execution_count": null,
   "id": "68ef8c00",
   "metadata": {},
   "outputs": [],
   "source": []
  }
 ],
 "metadata": {
  "kernelspec": {
   "display_name": "Python 3 (ipykernel)",
   "language": "python",
   "name": "python3"
  },
  "language_info": {
   "codemirror_mode": {
    "name": "ipython",
    "version": 3
   },
   "file_extension": ".py",
   "mimetype": "text/x-python",
   "name": "python",
   "nbconvert_exporter": "python",
   "pygments_lexer": "ipython3",
   "version": "3.9.12"
  }
 },
 "nbformat": 4,
 "nbformat_minor": 5
}
