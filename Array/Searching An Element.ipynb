{
 "cells": [
  {
   "cell_type": "code",
   "execution_count": 7,
   "id": "3bcc4890",
   "metadata": {},
   "outputs": [
    {
     "name": "stdout",
     "output_type": "stream",
     "text": [
      "Required Element 4 is found in an array on index 3\n",
      "array('i', [1, 2, 3, 4, 5, 6, 7, 8, 9, 10])\n"
     ]
    }
   ],
   "source": [
    "from array import *\n",
    "\n",
    "def SearchingElement(_array , target):\n",
    "    if target in _array:\n",
    "        print(\"Required Element\", target ,\"is found in an array on index\", _array.index(target))\n",
    "        print(_array)\n",
    "    else:\n",
    "        print(\"There is no element in an array \")\n",
    "\n",
    "arr1 = array('i' , [1,2,3,4,5,6,7,8,9,10])\n",
    "target = 4\n",
    "SearchingElement(arr1 , target)"
   ]
  }
 ],
 "metadata": {
  "kernelspec": {
   "display_name": "Python 3 (ipykernel)",
   "language": "python",
   "name": "python3"
  },
  "language_info": {
   "codemirror_mode": {
    "name": "ipython",
    "version": 3
   },
   "file_extension": ".py",
   "mimetype": "text/x-python",
   "name": "python",
   "nbconvert_exporter": "python",
   "pygments_lexer": "ipython3",
   "version": "3.9.12"
  }
 },
 "nbformat": 4,
 "nbformat_minor": 5
}
