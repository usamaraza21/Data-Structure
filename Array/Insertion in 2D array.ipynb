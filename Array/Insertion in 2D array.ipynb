{
 "cells": [
  {
   "cell_type": "code",
   "execution_count": 4,
   "id": "76cba5ed",
   "metadata": {},
   "outputs": [
    {
     "name": "stdout",
     "output_type": "stream",
     "text": [
      "[[ 1  2  3  4]\n",
      " [ 5  6  7  8]\n",
      " [ 9 10 11 12]\n",
      " [13 14 15 16]]\n"
     ]
    }
   ],
   "source": [
    "import numpy as np\n",
    "\n",
    "twoDArray = np.array([[1,2,3,4] , [5,6,7,8] ,[9,10,11,12] , [13,14,15,16] ])\n",
    "print(twoDArray)\n",
    "\n"
   ]
  },
  {
   "cell_type": "code",
   "execution_count": 11,
   "id": "14aa6742",
   "metadata": {},
   "outputs": [
    {
     "name": "stdout",
     "output_type": "stream",
     "text": [
      "[[ 0  0  0  0]\n",
      " [ 1  2  3  4]\n",
      " [ 5  6  7  8]\n",
      " [ 9 10 11 12]\n",
      " [13 14 15 16]]\n"
     ]
    }
   ],
   "source": [
    "newTwoDArray = np.insert(twoDArray , 0 , [0,0,0,0] , axis=0)\n",
    "print(newTwoDArray)"
   ]
  },
  {
   "cell_type": "code",
   "execution_count": 12,
   "id": "4855de63",
   "metadata": {},
   "outputs": [
    {
     "name": "stdout",
     "output_type": "stream",
     "text": [
      "[[ 0  1  2  3  4]\n",
      " [ 0  5  6  7  8]\n",
      " [ 0  9 10 11 12]\n",
      " [ 0 13 14 15 16]]\n"
     ]
    }
   ],
   "source": [
    "newTwoDArray = np.insert(twoDArray , 0 , [0,0,0,0] , axis=1)\n",
    "print(newTwoDArray)"
   ]
  },
  {
   "cell_type": "code",
   "execution_count": null,
   "id": "8257f24c",
   "metadata": {},
   "outputs": [],
   "source": [
    "# np.insert syntax(a,b,c,d)\n",
    "#a = write that array you want to into insert\n",
    "#b = on which row or column you want to insert \n",
    "#c = inserted values \n",
    "#d = specify either insert in row or in column by axis = ? 0:1 (0 for row , 1 for column)"
   ]
  }
 ],
 "metadata": {
  "kernelspec": {
   "display_name": "Python 3 (ipykernel)",
   "language": "python",
   "name": "python3"
  },
  "language_info": {
   "codemirror_mode": {
    "name": "ipython",
    "version": 3
   },
   "file_extension": ".py",
   "mimetype": "text/x-python",
   "name": "python",
   "nbconvert_exporter": "python",
   "pygments_lexer": "ipython3",
   "version": "3.9.12"
  }
 },
 "nbformat": 4,
 "nbformat_minor": 5
}
