{
 "cells": [
  {
   "cell_type": "code",
   "execution_count": 12,
   "id": "3fa9d476",
   "metadata": {},
   "outputs": [
    {
     "name": "stdout",
     "output_type": "stream",
     "text": [
      "[[ 1  2  3  4]\n",
      " [ 5  6  7  8]\n",
      " [ 9 10 11 12]\n",
      " [13 14 15 16]]\n"
     ]
    }
   ],
   "source": [
    "import numpy as np\n",
    "\n",
    "twoDArray = np.array([[1,2,3,4] , [5,6,7,8] ,[9,10,11,12] , [13,14,15,16] ])\n",
    "print(twoDArray)"
   ]
  },
  {
   "cell_type": "code",
   "execution_count": 26,
   "id": "3404a5cb",
   "metadata": {},
   "outputs": [
    {
     "name": "stdout",
     "output_type": "stream",
     "text": [
      "('Target Element ', 20, 'is not found in an array')\n"
     ]
    }
   ],
   "source": [
    "def Searching2DArray(_array , target):\n",
    "    for i in range (len(_array)):\n",
    "        for j in range(len(_array[0])):\n",
    "            if (_array[i][j] == target):\n",
    "                return\"the given target \", target ,\"is found on index\", _array[i][j]\n",
    "                \n",
    "\n",
    "    return (\"Target Element \", target ,\"is not found in an array\")\n",
    "            \n",
    "\n",
    "print(Searching2DArray(twoDArray , 20))\n"
   ]
  }
 ],
 "metadata": {
  "kernelspec": {
   "display_name": "Python 3 (ipykernel)",
   "language": "python",
   "name": "python3"
  },
  "language_info": {
   "codemirror_mode": {
    "name": "ipython",
    "version": 3
   },
   "file_extension": ".py",
   "mimetype": "text/x-python",
   "name": "python",
   "nbconvert_exporter": "python",
   "pygments_lexer": "ipython3",
   "version": "3.9.12"
  }
 },
 "nbformat": 4,
 "nbformat_minor": 5
}
