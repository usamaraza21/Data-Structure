{
 "cells": [
  {
   "cell_type": "code",
   "execution_count": 7,
   "id": "022d5d0a",
   "metadata": {},
   "outputs": [
    {
     "name": "stdout",
     "output_type": "stream",
     "text": [
      "index number is out of bound\n"
     ]
    }
   ],
   "source": [
    "from array import *\n",
    "\n",
    "def AccessElement(_array , indexNum):\n",
    "    if indexNum < len(_array):\n",
    "        print(\"On Index \", indexNum ,\" the value is : \", _array[indexNum])\n",
    "        \n",
    "    else:\n",
    "        print(\"index number is out of bound\")\n",
    "arr1 = array('i' , [10,20,30,40,50,60,70,80,90,100])\n",
    "\n",
    "AccessElement(arr1 , 10)\n",
    "        "
   ]
  }
 ],
 "metadata": {
  "kernelspec": {
   "display_name": "Python 3 (ipykernel)",
   "language": "python",
   "name": "python3"
  },
  "language_info": {
   "codemirror_mode": {
    "name": "ipython",
    "version": 3
   },
   "file_extension": ".py",
   "mimetype": "text/x-python",
   "name": "python",
   "nbconvert_exporter": "python",
   "pygments_lexer": "ipython3",
   "version": "3.9.12"
  }
 },
 "nbformat": 4,
 "nbformat_minor": 5
}
