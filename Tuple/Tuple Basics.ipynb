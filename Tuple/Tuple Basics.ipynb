{
 "cells": [
  {
   "cell_type": "code",
   "execution_count": 16,
   "id": "e96c2282",
   "metadata": {},
   "outputs": [
    {
     "name": "stdout",
     "output_type": "stream",
     "text": [
      "('a', 'b', 'c', 'd', 'e')\n"
     ]
    }
   ],
   "source": [
    "# Create Tuple\n",
    "tup = ('a', 'b', 'c','d','e')\n",
    "print(tup)"
   ]
  },
  {
   "cell_type": "code",
   "execution_count": 11,
   "id": "d3c4aba4",
   "metadata": {},
   "outputs": [
    {
     "name": "stdout",
     "output_type": "stream",
     "text": [
      "('a',)\n"
     ]
    }
   ],
   "source": [
    "#single element in tuple syntax\n",
    "tup = ('a',) # must add , after write single element\n",
    "# tup = ('a') #its consider as a string\n",
    "print(tup)"
   ]
  },
  {
   "cell_type": "code",
   "execution_count": 15,
   "id": "b869c9e1",
   "metadata": {},
   "outputs": [
    {
     "name": "stdout",
     "output_type": "stream",
     "text": [
      "b\n",
      "e\n",
      "('b', 'c')\n",
      "('a', 'b', 'c', 'd')\n"
     ]
    }
   ],
   "source": [
    "#Accessing Tuple Element\n",
    "print(tup[1])\n",
    "print(tup[-1])\n",
    "print(tup[1:3])\n",
    "print(tup[:4])"
   ]
  },
  {
   "cell_type": "code",
   "execution_count": 21,
   "id": "7ec805ba",
   "metadata": {},
   "outputs": [
    {
     "name": "stdout",
     "output_type": "stream",
     "text": [
      "a\n",
      "b\n",
      "c\n",
      "d\n",
      "e\n"
     ]
    }
   ],
   "source": [
    "#Traversing\n",
    "def TraverseTuple(tup):\n",
    "    for i in range(len(tup)):\n",
    "        print(tup[i])\n",
    "        \n",
    "TraverseTuple(tup)"
   ]
  },
  {
   "cell_type": "code",
   "execution_count": 33,
   "id": "01b6a410",
   "metadata": {},
   "outputs": [
    {
     "data": {
      "text/plain": [
       "'a'"
      ]
     },
     "execution_count": 33,
     "metadata": {},
     "output_type": "execute_result"
    }
   ],
   "source": [
    "#Searching\n",
    "# print('c' in tup)\n",
    "def SearchingTuple(_tup , _element):\n",
    "    for i in range(len(_tup)):\n",
    "        if _tup[i] == _element:\n",
    "            return _tup[i]\n",
    "    return 'element not present in tuple'\n",
    "\n",
    "SearchingTuple(tup , 'a')"
   ]
  }
 ],
 "metadata": {
  "kernelspec": {
   "display_name": "Python 3 (ipykernel)",
   "language": "python",
   "name": "python3"
  },
  "language_info": {
   "codemirror_mode": {
    "name": "ipython",
    "version": 3
   },
   "file_extension": ".py",
   "mimetype": "text/x-python",
   "name": "python",
   "nbconvert_exporter": "python",
   "pygments_lexer": "ipython3",
   "version": "3.9.12"
  }
 },
 "nbformat": 4,
 "nbformat_minor": 5
}
