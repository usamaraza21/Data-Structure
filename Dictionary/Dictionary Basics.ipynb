{
 "cells": [
  {
   "cell_type": "code",
   "execution_count": 19,
   "id": "2a3a222b",
   "metadata": {},
   "outputs": [
    {
     "name": "stdout",
     "output_type": "stream",
     "text": [
      "{'name': 'usama', 'age': 24, 'male': True}\n",
      "usama\n",
      "24\n",
      "True\n"
     ]
    }
   ],
   "source": [
    "mydict = {\"name\" : \"usama\" , \"age\": 24 , \"male\": True}\n",
    "print(mydict)\n",
    "print(mydict['name'])\n",
    "print(mydict['age'])\n",
    "print(mydict['male'])"
   ]
  },
  {
   "cell_type": "code",
   "execution_count": 8,
   "id": "3704052e",
   "metadata": {},
   "outputs": [
    {
     "name": "stdout",
     "output_type": "stream",
     "text": [
      "{'name': 'Usama Raza', 'age': 24, 'male': True}\n"
     ]
    }
   ],
   "source": [
    "#update \n",
    "mydict['name'] = 'Usama Raza'\n",
    "print(mydict)"
   ]
  },
  {
   "cell_type": "code",
   "execution_count": 15,
   "id": "922a9d53",
   "metadata": {},
   "outputs": [
    {
     "name": "stdout",
     "output_type": "stream",
     "text": [
      "{'name': 'usama', 'age': 24, 'male': True, 'class': 'University'}\n"
     ]
    }
   ],
   "source": [
    "#insert\n",
    "mydict['class'] = 'University'\n",
    "print(mydict)"
   ]
  },
  {
   "cell_type": "code",
   "execution_count": 4,
   "id": "5d805e5c",
   "metadata": {},
   "outputs": [
    {
     "name": "stdout",
     "output_type": "stream",
     "text": [
      "name Usama Raza\n",
      "age 24\n",
      "male True\n",
      "class University\n"
     ]
    }
   ],
   "source": [
    "#Traverse\n",
    "def TraverseDict(dict):\n",
    "    for key in dict:\n",
    "        print(key , dict[key])\n",
    "TraverseDict(mydict)"
   ]
  },
  {
   "cell_type": "code",
   "execution_count": 6,
   "id": "82ea8ab0",
   "metadata": {},
   "outputs": [
    {
     "data": {
      "text/plain": [
       "('age', 24)"
      ]
     },
     "execution_count": 6,
     "metadata": {},
     "output_type": "execute_result"
    }
   ],
   "source": [
    "# Searching\n",
    "import time\n",
    "def SearchingDict(dict , value):\n",
    "    for key in dict:\n",
    "        if dict[key] == value:\n",
    "            return key, value\n",
    "    return 'the value does not exist'\n",
    "\n",
    "SearchingDict(mydict , 24)"
   ]
  },
  {
   "cell_type": "code",
   "execution_count": 22,
   "id": "a80c7258",
   "metadata": {},
   "outputs": [
    {
     "name": "stdout",
     "output_type": "stream",
     "text": [
      "{}\n"
     ]
    }
   ],
   "source": [
    "#delete\n",
    "# mydict.pop(\"male\") # delete specific element\n",
    "# mydict.popitem() #delete last element\n",
    "mydict.clear()  # delete whole dictionary\n",
    "print(mydict)"
   ]
  },
  {
   "cell_type": "code",
   "execution_count": null,
   "id": "b35a1236",
   "metadata": {},
   "outputs": [],
   "source": []
  }
 ],
 "metadata": {
  "kernelspec": {
   "display_name": "Python 3 (ipykernel)",
   "language": "python",
   "name": "python3"
  },
  "language_info": {
   "codemirror_mode": {
    "name": "ipython",
    "version": 3
   },
   "file_extension": ".py",
   "mimetype": "text/x-python",
   "name": "python",
   "nbconvert_exporter": "python",
   "pygments_lexer": "ipython3",
   "version": "3.9.12"
  }
 },
 "nbformat": 4,
 "nbformat_minor": 5
}
